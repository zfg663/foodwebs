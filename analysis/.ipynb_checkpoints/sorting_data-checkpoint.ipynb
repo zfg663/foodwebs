{
 "cells": [
  {
   "cell_type": "markdown",
   "metadata": {},
   "source": [
    "### Code for sorting data produced in simulation"
   ]
  },
  {
   "cell_type": "code",
   "execution_count": 51,
   "metadata": {},
   "outputs": [],
   "source": [
    "import numpy as np\n",
    "import matplotlib.pyplot as plt"
   ]
  },
  {
   "cell_type": "markdown",
   "metadata": {},
   "source": [
    "Settings to be modified"
   ]
  },
  {
   "cell_type": "code",
   "execution_count": 80,
   "metadata": {},
   "outputs": [],
   "source": [
    "versions = np.array(['1-link', '2-links'])\n",
    "name = versions[1]\n",
    "\n",
    "fMax = 3\n",
    "fMax = fMax + 1\n",
    "\n",
    "init_density = 1e-10"
   ]
  },
  {
   "cell_type": "markdown",
   "metadata": {},
   "source": [
    "### Importing data\n",
    "\n",
    "species_par:  \n",
    "addAttempt - index - addAttempt of invasion - level - initial density - decay rate - index of other species - eta - eta*beta"
   ]
  },
  {
   "cell_type": "code",
   "execution_count": 78,
   "metadata": {},
   "outputs": [],
   "source": [
    "partData = []\n",
    "\n",
    "for f in range(fMax) :\n",
    "    partD.append(np.loadtxt('/home/jovyan/work/bachelor_data/old/' + name + '/species_par_0' + str(f) + '.txt'))\n",
    "\n",
    "sp_par = np.concatenate(partData)\n",
    "\n",
    "Nweb = int(sp_par[-1,0])\n",
    "web, level, density = np.array(sp_par[:,0]).astype(int), sp_par[:,3], sp_par[:,4]\n"
   ]
  },
  {
   "cell_type": "markdown",
   "metadata": {},
   "source": [
    "Identifying omnivorous webs"
   ]
  },
  {
   "cell_type": "code",
   "execution_count": null,
   "metadata": {},
   "outputs": [],
   "source": [
    "omnivores = np.zeros(Nweb)\n",
    "Nspecies = np.ones(Nweb)\n",
    "\n",
    "\n",
    "integer = np.arange(1,10)\n",
    "for i in range(len(data[:,0])) :\n",
    "    if density[i] == init_density :\n",
    "        continue;\n",
    "    elif level[i] not in integer :\n",
    "        omnivores[web[i]-] += 1\n",
    "    # number of species when food web stabilized\n",
    "    Nspecies[web[i]-1] = data[i,1]"
   ]
  },
  {
   "cell_type": "code",
   "execution_count": null,
   "metadata": {},
   "outputs": [],
   "source": [
    "fig, ax = plt.subplots(1,1, figsize=(10,4));\n",
    "#ax.hist(omnivores/Nspecies);\n",
    "ax.plot(omnivores/Nspecies);"
   ]
  },
  {
   "cell_type": "code",
   "execution_count": 79,
   "metadata": {},
   "outputs": [
    {
     "data": {
      "text/plain": [
       "array([[1.00000e+00, 1.00000e+00, 1.00000e+00, 2.00000e+00, 1.00000e-10,\n",
       "        1.19347e-01],\n",
       "       [2.00000e+00, 1.00000e+00, 1.00000e+00, 2.00000e+00, 4.01693e-01,\n",
       "        1.19347e-01],\n",
       "       [2.00000e+00, 2.00000e+00, 2.00000e+00, 3.00000e+00, 1.00000e-10,\n",
       "        4.78325e-01],\n",
       "       [3.00000e+00, 1.00000e+00, 1.00000e+00, 2.00000e+00, 4.01693e-01,\n",
       "        1.19347e-01]])"
      ]
     },
     "execution_count": 79,
     "metadata": {},
     "output_type": "execute_result"
    }
   ],
   "source": [
    "data[0:4, 0:6]"
   ]
  },
  {
   "cell_type": "code",
   "execution_count": null,
   "metadata": {},
   "outputs": [],
   "source": []
  }
 ],
 "metadata": {
  "kernelspec": {
   "display_name": "Python 3",
   "language": "python",
   "name": "python3"
  },
  "language_info": {
   "codemirror_mode": {
    "name": "ipython",
    "version": 3
   },
   "file_extension": ".py",
   "mimetype": "text/x-python",
   "name": "python",
   "nbconvert_exporter": "python",
   "pygments_lexer": "ipython3",
   "version": "3.7.6"
  }
 },
 "nbformat": 4,
 "nbformat_minor": 4
}
