{
 "cells": [
  {
   "cell_type": "markdown",
   "metadata": {},
   "source": [
    "## Script to plot eigenvalue spectra\n",
    "- xlim and ylim on spectrum plots"
   ]
  },
  {
   "cell_type": "code",
   "execution_count": 134,
   "metadata": {},
   "outputs": [],
   "source": [
    "import numpy as np\n",
    "import matplotlib as mpl\n",
    "from matplotlib import pyplot as plt\n",
    "import pickle"
   ]
  },
  {
   "cell_type": "markdown",
   "metadata": {},
   "source": [
    "### Settings to modify"
   ]
  },
  {
   "cell_type": "code",
   "execution_count": 135,
   "metadata": {},
   "outputs": [
    {
     "name": "stdout",
     "output_type": "stream",
     "text": [
      "filename: 1-link_N2-7\n"
     ]
    }
   ],
   "source": [
    "versions = np.array(['1-link', '2-links'])\n",
    "name = versions[0]\n",
    "\n",
    "# adding using unstable eigenvalues\n",
    "unstable = False\n",
    "\n",
    "# limits on size of community matrices\n",
    "nMin = 2\n",
    "nMax = 8\n",
    "\n",
    "# number of files with data\n",
    "fMin = 0\n",
    "fMax = 1\n",
    "\n",
    "# parameters for histogram data (for comparison)\n",
    "rangeReal = [-6,4]\n",
    "binsReal = 400\n",
    "\n",
    "filename = name + '_N' + str(nMin) +'-'+ str(nMax-1)\n",
    "print('filename:',filename)"
   ]
  },
  {
   "cell_type": "markdown",
   "metadata": {},
   "source": [
    "### Importing data\n",
    "Merge unstable and stable?"
   ]
  },
  {
   "cell_type": "code",
   "execution_count": 136,
   "metadata": {},
   "outputs": [],
   "source": [
    "partData = []\n",
    "\n",
    "for f in range(fMin, fMax) :\n",
    "    #partData.append(np.loadtxt('../data/' + name + '/eig_stab.txt'))\n",
    "    partData.append(np.loadtxt('/home/jovyan/work/bachelor_data/old/' + name + '/eig_stab_0'+str(f)+'.txt'))\n",
    "\n",
    "data = np.concatenate(partData)\n",
    "data = data[:,1:]\n",
    "#data.shape"
   ]
  },
  {
   "cell_type": "markdown",
   "metadata": {},
   "source": [
    "### Sorting data\n",
    "Remove duplicates and sorting after size"
   ]
  },
  {
   "cell_type": "code",
   "execution_count": 137,
   "metadata": {},
   "outputs": [
    {
     "name": "stdout",
     "output_type": "stream",
     "text": [
      "Number of unique food webs: 9027\n",
      "\n",
      "Size:  #\n",
      " 1:   444\n",
      " 2:   1540\n",
      " 3:   1031\n",
      " 4:   2796\n",
      " 5:   989\n",
      " 6:   2319\n",
      " 7:   523\n",
      " 8:   1109\n",
      " 9:   166\n",
      "10:   294\n",
      "11:   34\n",
      "12:   57\n"
     ]
    }
   ],
   "source": [
    "# Removing duplicates\n",
    "# perform lex sort and get sorted data\n",
    "sorted_idx = np.lexsort(data.T)\n",
    "sorted_data =  data[sorted_idx,:]\n",
    "\n",
    "# get unique row mask\n",
    "row_mask = np.append([True],np.any(np.diff(sorted_data,axis=0),1))\n",
    "\n",
    "# get unique rows\n",
    "uniqueData = sorted_data[row_mask]\n",
    "\n",
    "size = uniqueData[:,0].astype(int)\n",
    "eigData = uniqueData[:,1:]\n",
    "\n",
    "print(f'Number of unique food webs: {len(size):2.0f}\\n\\nSize:  #')\n",
    "\n",
    "\n",
    "\n",
    "# sorting after size\n",
    "real, imag = [], []\n",
    "\n",
    "for n in range(min(size), max(size)+1) :\n",
    "    mask = (size == n)\n",
    "    dataTemp = eigData[mask]\n",
    "    realTemp = np.concatenate(dataTemp.T[0:2*n:2])\n",
    "    imagTemp = np.concatenate(dataTemp.T[1:2*n:2])\n",
    "\n",
    "    real.append(realTemp)\n",
    "    imag.append(imagTemp)\n",
    "    \n",
    "\n",
    "for n in range(min(size), max(size)) :\n",
    "    print(f'{n:2.0f}:   {len(real[n])/n:2.0f}')\n",
    " "
   ]
  },
  {
   "cell_type": "code",
   "execution_count": 138,
   "metadata": {},
   "outputs": [],
   "source": [
    "# saving sorted data\n",
    "with open('sorted_data/real_' + filename + '.pickle', 'wb') as file:\n",
    "    pickle.dump(real, file)\n",
    "    \n",
    "with open('sorted_data/imag_' + filename + '.pickle', 'wb') as file:\n",
    "    pickle.dump(imag, file)"
   ]
  },
  {
   "cell_type": "markdown",
   "metadata": {},
   "source": [
    "#### Plotting"
   ]
  },
  {
   "cell_type": "code",
   "execution_count": 139,
   "metadata": {},
   "outputs": [
    {
     "data": {
      "image/png": "[encoded data removed]",
      "text/plain": [
       "<Figure size 720x288 with 7 Axes>"
      ]
     },
     "metadata": {
      "needs_background": "light"
     },
     "output_type": "display_data"
    }
   ],
   "source": [
    "bins = [100,50]\n",
    "\n",
    "fig, axes = plt.subplots(2,3, figsize=(10,4), sharex=True, sharey=False)\n",
    "axes[0,0].set(ylabel='Imaginary')\n",
    "axes[1,0].set(xlabel='Real', ylabel='Imaginary')\n",
    "axes[1,1].set(xlabel='Real')\n",
    "axes[1,2].set(xlabel='Real')\n",
    "\n",
    "i = nMin\n",
    "for ax in axes.flat:\n",
    "    ax.set(title='size = ' + str(i))\n",
    "    _,_,_, im = ax.hist2d(real[i-min(size)], imag[i-min(size)], bins=bins, norm = mpl.colors.LogNorm());\n",
    "    i += 1\n",
    "\n",
    "    fig.tight_layout();\n",
    "fig.colorbar(im, ax=axes.ravel().tolist())  ;      "
   ]
  },
  {
   "cell_type": "code",
   "execution_count": 140,
   "metadata": {},
   "outputs": [],
   "source": [
    "fig.savefig('figs/spectra_' + filename +'.png', dpi=100)"
   ]
  },
  {
   "cell_type": "markdown",
   "metadata": {},
   "source": [
    "### Histogram of real eigenvalues\n",
    "Producing values for comparing spectra"
   ]
  },
  {
   "cell_type": "code",
   "execution_count": 141,
   "metadata": {},
   "outputs": [
    {
     "data": {
      "image/png": "[encoded data removed]",
      "text/plain": [
       "<Figure size 720x288 with 6 Axes>"
      ]
     },
     "metadata": {
      "needs_background": "light"
     },
     "output_type": "display_data"
    }
   ],
   "source": [
    "binsReal = 100\n",
    "\n",
    "fig, axes = plt.subplots(2,3, figsize=(10,4), sharex=True, sharey=False)\n",
    "axes[0,0].set(ylabel='Counts')\n",
    "axes[1,0].set(xlabel='Real', ylabel='Counts')\n",
    "axes[1,1].set(xlabel='Real')\n",
    "axes[1,2].set(xlabel='Real')\n",
    "\n",
    "i = 0\n",
    "countsReal = np.zeros([nMax-nMin, binsReal])\n",
    "binEdgesReal = np.zeros([nMax-nMin, binsReal+1])\n",
    "\n",
    "for ax in axes.flat:\n",
    "    #ax.set(title='size = ' + str(nMin+i))\n",
    "    #countsReal[i,:], binEdgesReal[i,:] ,_ = ax.hist(real[i], bins=binsReal, range=rangeReal, density=True);\n",
    "    countsReal[i,:], binEdgesReal[i,:] ,_ = ax.hist(real[i], bins=binsReal);\n",
    "    ax.set(yscale='log')\n",
    "    i += 1\n",
    "    \n",
    "fig.tight_layout();"
   ]
  },
  {
   "cell_type": "code",
   "execution_count": 94,
   "metadata": {},
   "outputs": [
    {
     "data": {
      "image/png": "[encoded data removed]",
      "text/plain": [
       "<Figure size 432x288 with 1 Axes>"
      ]
     },
     "metadata": {
      "needs_background": "light"
     },
     "output_type": "display_data"
    }
   ],
   "source": [
    "binCentersReal = (binEdgesReal[:,0:-1] + binEdgesReal[:,1:])/2\n",
    "\n",
    "fig, ax = plt.subplots(1,1, figsize=(6,4));\n",
    "for i in range(nMax-nMin) :\n",
    "    ax.plot(binCentersReal[i], countsReal[i], label='n='+str(nMin+i));\n",
    "    \n",
    "ax.set(xlabel='Real value', ylabel='Counts')\n",
    "ax.legend();"
   ]
  },
  {
   "cell_type": "code",
   "execution_count": 107,
   "metadata": {},
   "outputs": [],
   "source": [
    "#np.savetxt('sorted_data/x' + filename + '.txt', binCentersReal, newline='\\n')\n",
    "#np.savetxt('sorted_data/y' + filename + '.txt', countsReal, newline='\\n')"
   ]
  },
  {
   "cell_type": "markdown",
   "metadata": {},
   "source": [
    "### Histogram of imaginary eigenvalues"
   ]
  },
  {
   "cell_type": "code",
   "execution_count": 96,
   "metadata": {},
   "outputs": [
    {
     "data": {
      "image/png": "[encoded data removed]",
      "text/plain": [
       "<Figure size 720x288 with 6 Axes>"
      ]
     },
     "metadata": {
      "needs_background": "light"
     },
     "output_type": "display_data"
    }
   ],
   "source": [
    "bins = 100\n",
    "\n",
    "fig, axes = plt.subplots(2,3, figsize=(10,4), sharex=True, sharey=False)\n",
    "axes[0,0].set(ylabel='Counts')\n",
    "axes[1,0].set(xlabel='Imaginary', ylabel='Counts')\n",
    "axes[1,1].set(xlabel='Imaginary')\n",
    "axes[1,2].set(xlabel='Imaginary')\n",
    "\n",
    "i = 0\n",
    "countsImag = np.zeros([nMax-nMin, bins])\n",
    "binEdgesImag = np.zeros([nMax-nMin, bins+1])\n",
    "\n",
    "for ax in axes.flat:\n",
    "    #ax.set(title='size = ' + str(nMin+i))\n",
    "    countsImag[i,:], binEdgesImag[i,:] ,_ = ax.hist(imag[i], bins=bins);\n",
    "    ax.set(yscale='log')\n",
    "    i += 1\n",
    "\n",
    "fig.tight_layout();"
   ]
  },
  {
   "cell_type": "code",
   "execution_count": null,
   "metadata": {},
   "outputs": [],
   "source": []
  }
 ],
 "metadata": {
  "kernelspec": {
   "display_name": "Python 3",
   "language": "python",
   "name": "python3"
  },
  "language_info": {
   "codemirror_mode": {
    "name": "ipython",
    "version": 3
   },
   "file_extension": ".py",
   "mimetype": "text/x-python",
   "name": "python",
   "nbconvert_exporter": "python",
   "pygments_lexer": "ipython3",
   "version": "3.7.6"
  }
 },
 "nbformat": 4,
 "nbformat_minor": 4
}
