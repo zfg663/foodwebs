{
 "cells": [
  {
   "cell_type": "markdown",
   "metadata": {},
   "source": [
    "### Code for sorting data produced in simulation"
   ]
  },
  {
   "cell_type": "code",
   "execution_count": 1,
   "metadata": {},
   "outputs": [],
   "source": [
    "import numpy as np\n",
    "import matplotlib.pyplot as plt"
   ]
  },
  {
   "cell_type": "markdown",
   "metadata": {},
   "source": [
    "Settings to be modified"
   ]
  },
  {
   "cell_type": "code",
   "execution_count": 2,
   "metadata": {},
   "outputs": [],
   "source": [
    "versions = np.array(['1-link', '2-links'])\n",
    "name = versions[1]\n",
    "\n",
    "prMax, spMax = 2,3\n",
    "prMax, spMax = prMax + 1, spMax + 1\n",
    "\n",
    "nMax = 40\n",
    "\n",
    "init_density = 1e-10\n",
    "beta = 0.7"
   ]
  },
  {
   "cell_type": "markdown",
   "metadata": {},
   "source": [
    "## Importing data\n",
    "\n",
    "Data from \"stability file\". Saved as:  \n",
    "addAttempt - Nspecies - feasible - stable - extinct species/behaviour of food web"
   ]
  },
  {
   "cell_type": "code",
   "execution_count": 3,
   "metadata": {},
   "outputs": [],
   "source": [
    "stabData = np.loadtxt('/home/jovyan/work/bachelor_data/old/' + name + '/stab_data.txt');"
   ]
  },
  {
   "cell_type": "markdown",
   "metadata": {},
   "source": [
    "Data from \"producer file\". Saved as:  \n",
    "overall addAttempt - index - addAttempt of species - level - density - "
   ]
  },
  {
   "cell_type": "code",
   "execution_count": 4,
   "metadata": {},
   "outputs": [],
   "source": [
    "partData = []\n",
    "\n",
    "for sp in range(spMax) :\n",
    "    partData.append(np.loadtxt('/home/jovyan/work/bachelor_data/old/' + name + '/species_par_0' + str(sp) + '.txt'))\n",
    "sp_par = np.concatenate(partData)"
   ]
  },
  {
   "cell_type": "markdown",
   "metadata": {},
   "source": [
    "Data from \"species file\". Saved as:  \n",
    "overall addAttempt - index - addAttempt of species - level - density - "
   ]
  },
  {
   "cell_type": "code",
   "execution_count": 5,
   "metadata": {},
   "outputs": [],
   "source": [
    "partData = []\n",
    "\n",
    "for pd in range(prMax) :\n",
    "    partData.append(np.loadtxt('/home/jovyan/work/bachelor_data/old/' + name + '/basal_par_0' + str(pd) + '.txt'))\n",
    "pd_par = np.concatenate(partData)"
   ]
  },
  {
   "cell_type": "code",
   "execution_count": 26,
   "metadata": {},
   "outputs": [
    {
     "name": "stdout",
     "output_type": "stream",
     "text": [
      "Number of invasions: 96794\n"
     ]
    }
   ],
   "source": [
    "invasive =[[0, 0, 0, 1, []] for i in range(Nweb)]\n",
    "# [death][number of species in food web][decay rate][level][links]\n",
    "# default: producer"
   ]
  },
  {
   "cell_type": "markdown",
   "metadata": {},
   "source": [
    "## Sorting the data\n",
    "### Extinct species and total number of species"
   ]
  },
  {
   "cell_type": "code",
   "execution_count": 16,
   "metadata": {},
   "outputs": [
    {
     "name": "stdout",
     "output_type": "stream",
     "text": [
      "Total number of invasions: 96794\n",
      "Successfull invasions: 29409\n",
      "\n",
      "Success fraction: 0.3038\n",
      "\n"
     ]
    },
    {
     "data": {
      "image/png": "[encoded data removed]",
      "text/plain": [
       "<Figure size 864x288 with 2 Axes>"
      ]
     },
     "metadata": {
      "needs_background": "light"
     },
     "output_type": "display_data"
    }
   ],
   "source": [
    "# Preparing arrays\n",
    "Nweb = int(stabData[-1,0])\n",
    "print(f'Total number of invasions: {Nweb:2.0f}')\n",
    "\n",
    "Nspecies = np.zeros([Nweb,2])         # [initial number, final number] \n",
    "Nprod = np.zeros_like(Nspecies)\n",
    "extinct = [[] for i in range(Nweb)]   # extinct species per food web\n",
    "death = Nweb*np.ones(Nweb)                # addAttempt that kills species added at index\n",
    "\n",
    "\n",
    "# Looping through stabData\n",
    "i = 0\n",
    "for web in range(Nweb) :\n",
    "    Nspecies[web,0] = stabData[i,1]   # saving initial number of species\n",
    "    \n",
    "    while stabData[i,0] == web:\n",
    "        if stabData[i+1,0] == stabData[i,0]+1 :\n",
    "            Nspecies[web,1] = stabData[i,1]           # saving final number of species\n",
    "    \n",
    "        else :\n",
    "            extinct[web].append(int(stabData[i,4]))   # saving extinct species\n",
    "            death[int(stabData[i,4])] = web\n",
    "        i += 1                                    \n",
    "\n",
    "\n",
    "Nextinct = abs(Nspecies[:,1] - Nspecies[:,0])         # number of extinct species per addition attempt\n",
    "\n",
    "# Creating mask for successful invasions\n",
    "success = np.zeros(Nweb)\n",
    "for i in range(Nweb) :\n",
    "    if i not in extinct[i] :\n",
    "        success[i] = True\n",
    "success = success.astype(bool)\n",
    "\n",
    "print(f'Successfull invasions: {len(Nextinct[success]):2.0f}')\n",
    "print(f'\\nSuccess fraction: {len(Nextinct[success])/Nweb:2.4}\\n')\n",
    "    \n",
    "    \n",
    "# plotting    \n",
    "fig, ax = plt.subplots(1,2, figsize=(12,4));\n",
    "ax[0].plot(Nspecies[:,1]);\n",
    "ax[0].set(xscale='log', xlabel='addition attempt', ylabel='final number of species');\n",
    "\n",
    "ax[1].hist(Nextinct, bins=int(max(Nextinct)+1-min(Nextinct)), range=[min(Nextinct)-0.5, max(Nextinct)+0.5], \\\n",
    "           density=True, histtype='step', label='all invasions');\n",
    "ax[1].hist(Nextinct[success], bins=int(max(Nextinct)+1-min(Nextinct)), range=[min(Nextinct)-0.5,max(Nextinct)+0.5], \\\n",
    "           density=True, histtype='step', label='succesfull invasions');\n",
    "ax[1].set(yscale='log', xlabel='number of extinct species per addition attempt');\n",
    "ax[1].legend();"
   ]
  },
  {
   "cell_type": "code",
   "execution_count": 7,
   "metadata": {},
   "outputs": [
    {
     "data": {
      "image/png": "[encoded data removed]",
      "text/plain": [
       "<Figure size 720x288 with 2 Axes>"
      ]
     },
     "metadata": {
      "needs_background": "light"
     },
     "output_type": "display_data"
    }
   ],
   "source": [
    "lifetime = np.arange(Nweb-1)\n",
    "lifetime = death[0:-1] - lifetime\n",
    "\n",
    "success = (lifetime>0)\n",
    "\n",
    "fig, ax = plt.subplots(1,2, figsize=(10,4));\n",
    "ax[0].hist(lifetime, bins=40, density=True, histtype='step', label='all');\n",
    "ax[0].hist(lifetime[success], bins=40, density=True, histtype='step', label='succesfull');\n",
    "ax[0].set(xlabel='number of invasions survived')\n",
    "ax[0].legend();\n",
    "ax[0].set(yscale='log');\n",
    "\n",
    "lifetime_sorted = np.sort(lifetime[success])\n",
    "\n",
    "ax[1].plot(lifetime_sorted);\n",
    "ax[1].set(xscale='log');"
   ]
  },
  {
   "cell_type": "code",
   "execution_count": 55,
   "metadata": {},
   "outputs": [],
   "source": [
    "# Obtaining index of extinct species\n",
    "extinct_index = [] #np.zeros_like(extinct)\n",
    "\n",
    "pd, sp = 0, 0\n",
    "for web in range(Nweb) :\n",
    "    i = 0\n",
    "    temp_arr = []\n",
    "    while pd_par[pd,0] == web :\n",
    "        Nprod[web,0] = pd_par[pd,1] + 1\n",
    "        if pd_par[pd,2] in extinct[web] :\n",
    "            temp_arr.append(int(pd_par[pd,1]))\n",
    "            \n",
    "        if web >= 1 and pd_par[pd,4] != init_density:\n",
    "            Nprod[web-1,1] = pd_par[pd,1] + 1\n",
    "        pd += 1\n",
    "    \n",
    "    while sp_par[sp,0] == web :\n",
    "        if sp_par[sp,2] in extinct[web] :\n",
    "            temp_arr.append(int(sp_par[sp,1]))\n",
    "        sp += 1\n",
    "    extinct_index.append(temp_arr)\n",
    "    \n",
    "Nprod = Nprod.astype(int)"
   ]
  },
  {
   "cell_type": "code",
   "execution_count": null,
   "metadata": {},
   "outputs": [],
   "source": []
  },
  {
   "cell_type": "code",
   "execution_count": 9,
   "metadata": {},
   "outputs": [],
   "source": [
    "biomass_i = [[] for i in range(Nweb)]\n",
    "biomass_f = [[] for i in range(Nweb)]\n",
    "level_i = [[] for i in range(Nweb)]\n",
    "level_f = [[] for i in range(Nweb)]\n",
    "id_i = [[] for i in range(Nweb)]\n",
    "id_f = [[] for i in range(Nweb)]\n",
    "\n",
    "pd, sp = 0, 0 \n",
    "for web in range(Nweb) : \n",
    "    while pd_par[pd,0] == web :\n",
    "        id_i[web].append(pd_par[pd,2])\n",
    "        biomass_i[web].append(pd_par[pd,4])\n",
    "        if web >= 1 and pd_par[pd,4] != init_density :\n",
    "            id_f[web-1].append(pd_par[pd,2])\n",
    "            biomass_f[web-1].append(pd_par[pd,4])\n",
    "        \n",
    "        level_i[web].append(1)\n",
    "        if pd_par[pd,2] not in extinct[web] :\n",
    "            level_f[web].append(1)\n",
    "        pd += 1\n",
    "    \n",
    "    while sp_par[sp,0] == web :\n",
    "        id_i[web].append(sp_par[sp,2])\n",
    "        biomass_i[web].append(sp_par[sp,4])\n",
    "        if web >= 1 and sp_par[sp,4] != init_density :\n",
    "            id_f[web-1].append(sp_par[sp,2])\n",
    "            biomass_f[web-1].append(pd_par[pd,4])\n",
    "            \n",
    "        level_i[web].append(sp_par[sp, 3])\n",
    "        if sp_par[sp,2] not in extinct[web] :\n",
    "            level_f[web].append(sp_par[sp, 3])\n",
    "        sp += 1\n",
    "\n",
    "biomass_i[0][0] = init_density # first addition\n",
    "#biomass_f[0][0] = pd_par[0,4]\n",
    "#NB: level_f is not properly sorted. Level might have changed after extinction of resource...\n",
    "# Also must remove copies of identical webs"
   ]
  },
  {
   "cell_type": "code",
   "execution_count": 10,
   "metadata": {},
   "outputs": [
    {
     "data": {
      "image/png": "[encoded data removed]",
      "text/plain": [
       "<Figure size 720x288 with 2 Axes>"
      ]
     },
     "metadata": {
      "needs_background": "light"
     },
     "output_type": "display_data"
    }
   ],
   "source": [
    "Tot_biomass = np.zeros([Nweb,2])\n",
    "for web in range(Nweb) :\n",
    "    Tot_biomass[web] = sum(biomass_i[web]), sum(biomass_f[web])\n",
    "    \n",
    "\n",
    "fig, ax = plt.subplots(1,2, figsize=(10,4));\n",
    "#ax[0].plot(Tot_biomass[:,0], label='initial');\n",
    "ax[0].plot(Tot_biomass[:,1], label='final');\n",
    "ax[0].set(xlabel='Addition attempt', ylabel='Total biomass', xscale='linear');\n",
    "#ax[0].legend();\n",
    "\n",
    "ax[1].set(xlabel='biomass after level, histogram');"
   ]
  },
  {
   "cell_type": "markdown",
   "metadata": {},
   "source": [
    "### Sorting links of species"
   ]
  },
  {
   "cell_type": "code",
   "execution_count": 64,
   "metadata": {},
   "outputs": [
    {
     "ename": "IndexError",
     "evalue": "index 2 is out of bounds for axis 0 with size 2",
     "output_type": "error",
     "traceback": [
      "\u001b[0;31m---------------------------------------------------------------------------\u001b[0m",
      "\u001b[0;31mIndexError\u001b[0m                                Traceback (most recent call last)",
      "\u001b[0;32m<ipython-input-64-1b3aad1a6cd7>\u001b[0m in \u001b[0;36m<module>\u001b[0;34m\u001b[0m\n\u001b[1;32m     23\u001b[0m \u001b[0;34m\u001b[0m\u001b[0m\n\u001b[1;32m     24\u001b[0m             \u001b[0;32mif\u001b[0m \u001b[0msp_par\u001b[0m\u001b[0;34m[\u001b[0m\u001b[0msp\u001b[0m\u001b[0;34m,\u001b[0m\u001b[0;36m1\u001b[0m\u001b[0;34m]\u001b[0m \u001b[0;32mnot\u001b[0m \u001b[0;32min\u001b[0m \u001b[0mextinct\u001b[0m\u001b[0;34m[\u001b[0m\u001b[0mweb\u001b[0m\u001b[0;34m]\u001b[0m \u001b[0;32mand\u001b[0m \u001b[0mj\u001b[0m \u001b[0;32mnot\u001b[0m \u001b[0;32min\u001b[0m \u001b[0mextinct_index\u001b[0m\u001b[0;34m[\u001b[0m\u001b[0mweb\u001b[0m\u001b[0;34m]\u001b[0m \u001b[0;34m:\u001b[0m\u001b[0;34m\u001b[0m\u001b[0;34m\u001b[0m\u001b[0m\n\u001b[0;32m---> 25\u001b[0;31m                 \u001b[0mmatrix_f\u001b[0m\u001b[0;34m[\u001b[0m\u001b[0mii\u001b[0m\u001b[0;34m,\u001b[0m\u001b[0mjj\u001b[0m\u001b[0;34m]\u001b[0m \u001b[0;34m=\u001b[0m \u001b[0msp_par\u001b[0m\u001b[0;34m[\u001b[0m\u001b[0msp\u001b[0m\u001b[0;34m,\u001b[0m \u001b[0;36m8\u001b[0m \u001b[0;34m+\u001b[0m \u001b[0;36m3\u001b[0m\u001b[0;34m*\u001b[0m\u001b[0mj\u001b[0m\u001b[0;34m]\u001b[0m       \u001b[0;31m# saving resource temporary\u001b[0m\u001b[0;34m\u001b[0m\u001b[0;34m\u001b[0m\u001b[0m\n\u001b[0m\u001b[1;32m     26\u001b[0m                 \u001b[0mmatrix_f\u001b[0m\u001b[0;34m[\u001b[0m\u001b[0mjj\u001b[0m\u001b[0;34m,\u001b[0m\u001b[0mii\u001b[0m\u001b[0;34m]\u001b[0m \u001b[0;34m=\u001b[0m \u001b[0mmatrix_f\u001b[0m\u001b[0;34m[\u001b[0m\u001b[0mii\u001b[0m\u001b[0;34m,\u001b[0m\u001b[0mjj\u001b[0m\u001b[0;34m]\u001b[0m\u001b[0;34m/\u001b[0m\u001b[0mbeta\u001b[0m\u001b[0;34m\u001b[0m\u001b[0;34m\u001b[0m\u001b[0m\n\u001b[1;32m     27\u001b[0m                 \u001b[0mjj\u001b[0m \u001b[0;34m+=\u001b[0m \u001b[0;36m1\u001b[0m\u001b[0;34m\u001b[0m\u001b[0;34m\u001b[0m\u001b[0m\n",
      "\u001b[0;31mIndexError\u001b[0m: index 2 is out of bounds for axis 0 with size 2"
     ]
    }
   ],
   "source": [
    "links_i = [0 for i in range(Nweb)]\n",
    "links_f = [0 for i in range(Nweb)]\n",
    "\n",
    "minWeb = int(sp_par[0,0])     # first web with non-producer\n",
    "\n",
    "for web in range(minWeb) :\n",
    "    N_i, N_f = int(Nspecies[web,0]), int(Nspecies[web,1])            \n",
    "    links_i[web], links_f[web] = np.zeros([N_i, N_i]), np.zeros([N_f, N_f])\n",
    "    \n",
    "\n",
    "sp = 0\n",
    "for web in range(minWeb, Nweb) :\n",
    "    i = Nprod[web,0] #int(sp_par[sp,1])\n",
    "    while sp_par[sp,0] == web : \n",
    "        N_i, N_f = int(Nspecies[web,0]), int(Nspecies[web,1])\n",
    "        matrix_i, matrix_f = np.zeros([N_i, N_i]), np.zeros([N_f, N_f])\n",
    "    \n",
    "#       Looping through resources of S_i\n",
    "        ii, jj = Nprod[web,1], 0\n",
    "        for j in range (N_i) :\n",
    "            matrix_i[i,j] = sp_par[sp, 8 + 3*j]       # saving resource temporary\n",
    "            matrix_i[j,i] = matrix_i[i,j]/beta\n",
    "            \n",
    "            if sp_par[sp,1] not in extinct[web] and j not in extinct_index[web] :\n",
    "                matrix_f[ii,jj] = sp_par[sp, 8 + 3*j]       # saving resource temporary\n",
    "                matrix_f[jj,ii] = matrix_f[ii,jj]/beta\n",
    "                jj += 1\n",
    "            ii += 1\n",
    "            \n",
    "        i += 1\n",
    "        sp += 1\n",
    "        \n",
    "#   Adding resources to link-array            \n",
    "    links_i[web] = matrix_i\n",
    "    links_f[web] = matrix_f"
   ]
  },
  {
   "cell_type": "code",
   "execution_count": 65,
   "metadata": {},
   "outputs": [
    {
     "name": "stdout",
     "output_type": "stream",
     "text": [
      "2.0 2.0\n",
      "0\n",
      "0\n"
     ]
    },
    {
     "data": {
      "text/plain": [
       "(2, 2, 1)"
      ]
     },
     "execution_count": 65,
     "metadata": {},
     "output_type": "execute_result"
    }
   ],
   "source": [
    "k = 1\n",
    "print(Nspecies[k,0], Nspecies[k,1])\n",
    "print(links_i[k])\n",
    "print(links_f[k])\n",
    "N_f, ii, jj"
   ]
  },
  {
   "cell_type": "code",
   "execution_count": 318,
   "metadata": {},
   "outputs": [
    {
     "data": {
      "text/plain": [
       "(8932.0, 33925)"
      ]
     },
     "execution_count": 318,
     "metadata": {},
     "output_type": "execute_result"
    }
   ],
   "source": [
    "# omnivores\n",
    "web, level, density = np.array(sp_par[:,0]).astype(int), sp_par[:,3], sp_par[:,4]\n",
    "\n",
    "integer = np.arange(1,10)\n",
    "mask = np.zeros(Nweb)\n",
    "raw_mask = np.zeros(Nweb)\n",
    "\n",
    "for i in range(len(web)) :\n",
    "    if level[i] not in integer :\n",
    "        raw_mask[web[i]] += 1\n",
    "\n",
    "for i in range(len(web)) :\n",
    "    if level[i] not in integer :\n",
    "        if extinct[web[i]] == []:\n",
    "            mask[web[i]] = 1\n",
    "        elif web[i] in extinct[web[i]] and len(extinct[web[i]]) == 1 and raw_mask[web[i]] >= 2:\n",
    "            mask[web[i]] = 1\n",
    "        \n",
    "        \n",
    "        \n",
    "np.sum(mask), np.sum(raw_mask.astype(bool))"
   ]
  },
  {
   "cell_type": "markdown",
   "metadata": {},
   "source": [
    "Identifying omnivorous webs"
   ]
  },
  {
   "cell_type": "code",
   "execution_count": null,
   "metadata": {},
   "outputs": [],
   "source": [
    "omnivores = np.zeros(Nweb)\n",
    "Nspecies = np.ones(Nweb)\n",
    "\n",
    "\n",
    "for i in range(len(data[:,0])) :\n",
    "    if density[i] == init_density :\n",
    "        continue;\n",
    "    elif level[i] not in integer :\n",
    "        omnivores[web[i]-] += 1\n",
    "    # number of species when food web stabilized\n",
    "    Nspecies[web[i]-1] = data[i,1]"
   ]
  },
  {
   "cell_type": "code",
   "execution_count": null,
   "metadata": {},
   "outputs": [],
   "source": [
    "fig, ax = plt.subplots(1,1, figsize=(10,4));\n",
    "#ax.hist(omnivores/Nspecies);\n",
    "ax.plot(omnivores/Nspecies);"
   ]
  },
  {
   "cell_type": "code",
   "execution_count": null,
   "metadata": {},
   "outputs": [],
   "source": [
    "data[0:4, 0:6]"
   ]
  },
  {
   "cell_type": "code",
   "execution_count": null,
   "metadata": {},
   "outputs": [],
   "source": [
    "a = 8"
   ]
  },
  {
   "cell_type": "code",
   "execution_count": null,
   "metadata": {},
   "outputs": [],
   "source": []
  }
 ],
 "metadata": {
  "kernelspec": {
   "display_name": "Python 3",
   "language": "python",
   "name": "python3"
  },
  "language_info": {
   "codemirror_mode": {
    "name": "ipython",
    "version": 3
   },
   "file_extension": ".py",
   "mimetype": "text/x-python",
   "name": "python",
   "nbconvert_exporter": "python",
   "pygments_lexer": "ipython3",
   "version": "3.7.6"
  }
 },
 "nbformat": 4,
 "nbformat_minor": 4
}
